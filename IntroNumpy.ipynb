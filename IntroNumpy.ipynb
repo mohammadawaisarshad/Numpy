{
  "nbformat": 4,
  "nbformat_minor": 0,
  "metadata": {
    "colab": {
      "provenance": [],
      "authorship_tag": "ABX9TyMjJDS5jVEjQKwhgPTudTly"
    },
    "kernelspec": {
      "name": "python3",
      "display_name": "Python 3"
    },
    "language_info": {
      "name": "python"
    }
  },
  "cells": [
    {
      "cell_type": "code",
      "source": [
        "import numpy as np\n",
        "data=np.array([1,2,3,4,5,6,7,8,9,10])\n",
        "print(data)"
      ],
      "metadata": {
        "colab": {
          "base_uri": "https://localhost:8080/"
        },
        "id": "pj-sjRovwcTw",
        "outputId": "6d0c30b5-f411-4c0a-d62b-d8c39c8818a0"
      },
      "execution_count": null,
      "outputs": [
        {
          "output_type": "stream",
          "name": "stdout",
          "text": [
            "[ 1  2  3  4  5  6  7  8  9 10]\n"
          ]
        }
      ]
    },
    {
      "cell_type": "code",
      "execution_count": null,
      "metadata": {
        "colab": {
          "base_uri": "https://localhost:8080/"
        },
        "id": "5zJtJC3NwO8v",
        "outputId": "69285c41-aab6-49cd-eac6-6f8530513346"
      },
      "outputs": [
        {
          "output_type": "stream",
          "name": "stdout",
          "text": [
            "(3, 3)\n"
          ]
        }
      ],
      "source": [
        "import numpy as np\n",
        "data=np.array([[1,2,3],[4,5,6],[7,8,9]])\n",
        "print(data.shape)\n",
        "\n"
      ]
    },
    {
      "cell_type": "code",
      "source": [
        "import numpy as np\n",
        "data=np.array([2,4,6,8])\n",
        "mul=np.prod(data)\n",
        "print(mul)"
      ],
      "metadata": {
        "id": "VDpm2Sluw8p3",
        "colab": {
          "base_uri": "https://localhost:8080/"
        },
        "outputId": "24eb9190-cb20-4f0a-dfc0-577e9ab724f7"
      },
      "execution_count": null,
      "outputs": [
        {
          "output_type": "stream",
          "name": "stdout",
          "text": [
            "384\n"
          ]
        }
      ]
    },
    {
      "cell_type": "code",
      "source": [
        "import numpy as np\n",
        "data=np.array([1,2,3,4,5,6,7,8,9,10])\n",
        "sum=np.sum(data)\n",
        "print(sum)"
      ],
      "metadata": {
        "colab": {
          "base_uri": "https://localhost:8080/"
        },
        "id": "FjfJDab2tH0Q",
        "outputId": "3e060a02-747e-4d92-d209-ad284b6ccfcb"
      },
      "execution_count": null,
      "outputs": [
        {
          "output_type": "stream",
          "name": "stdout",
          "text": [
            "55\n"
          ]
        }
      ]
    },
    {
      "cell_type": "code",
      "source": [
        "import numpy as np\n",
        "data=np.array([1, 3, 5, 7, 9])\n",
        "for i in data:\n",
        "    print(i**2)"
      ],
      "metadata": {
        "colab": {
          "base_uri": "https://localhost:8080/"
        },
        "id": "d3vw6BOct5Tl",
        "outputId": "376137f5-4eeb-4c70-cf9a-273031fc9712"
      },
      "execution_count": null,
      "outputs": [
        {
          "output_type": "stream",
          "name": "stdout",
          "text": [
            "1\n",
            "9\n",
            "25\n",
            "49\n",
            "81\n"
          ]
        }
      ]
    },
    {
      "cell_type": "code",
      "source": [
        "import numpy as np\n",
        "data=np.array([10, 20, 30, 40, 50])\n",
        "min=np.min(data)\n",
        "max=np.max(data)\n",
        "print(\"min:\",min)\n",
        "print(\"max:\",max)"
      ],
      "metadata": {
        "colab": {
          "base_uri": "https://localhost:8080/"
        },
        "id": "Fn9sw1aRu4X1",
        "outputId": "2cdf8166-e15a-4237-b69b-479e6780f996"
      },
      "execution_count": null,
      "outputs": [
        {
          "output_type": "stream",
          "name": "stdout",
          "text": [
            "min: 10\n",
            "max: 50\n"
          ]
        }
      ]
    },
    {
      "cell_type": "code",
      "source": [
        "import numpy as np\n",
        "data=np.array([[2, 4], [6, 8], [10, 12]])\n",
        "print(data.reshape(2,3))"
      ],
      "metadata": {
        "colab": {
          "base_uri": "https://localhost:8080/"
        },
        "id": "gEr2atosvViU",
        "outputId": "7c0be851-5378-4c1f-e164-3bd1716c4de7"
      },
      "execution_count": null,
      "outputs": [
        {
          "output_type": "stream",
          "name": "stdout",
          "text": [
            "[[ 2  4  6]\n",
            " [ 8 10 12]]\n"
          ]
        }
      ]
    },
    {
      "cell_type": "code",
      "source": [
        "import numpy as np\n",
        "\n",
        "data = np.array([[1, 2, 3], [4, 5, 6], [7, 8, 9]])\n",
        "row_sums = np.sum(data, axis=1)\n",
        "column_sums = np.sum(data, axis=0)\n",
        "\n",
        "print(\"Sum of each row:\", row_sums)\n",
        "print(\"Sum of each column:\", column_sums)\n"
      ],
      "metadata": {
        "colab": {
          "base_uri": "https://localhost:8080/"
        },
        "id": "i7fYfszOvuvc",
        "outputId": "2cf1f787-fde7-4443-beee-18ded9dd15f1"
      },
      "execution_count": null,
      "outputs": [
        {
          "output_type": "stream",
          "name": "stdout",
          "text": [
            "Sum of each row: [ 6 15 24]\n",
            "Sum of each column: [12 15 18]\n"
          ]
        }
      ]
    },
    {
      "cell_type": "code",
      "source": [
        "import numpy as np\n",
        "\n",
        "data = np.array([5, 10, 15, 20, 25, 30])\n",
        "even = data[data%2==0]\n",
        "\n",
        "print(\"Even:\", even)"
      ],
      "metadata": {
        "colab": {
          "base_uri": "https://localhost:8080/"
        },
        "id": "PMM1Kfv8xAyT",
        "outputId": "d978880e-1c83-4632-8082-c35bfda8b474"
      },
      "execution_count": null,
      "outputs": [
        {
          "output_type": "stream",
          "name": "stdout",
          "text": [
            "Even: [10 20 30]\n"
          ]
        }
      ]
    },
    {
      "cell_type": "code",
      "source": [
        "import numpy as np\n",
        "\n",
        "data = np.array([1, 2, 3, 4, 5])\n",
        "sum = np.cumsum(data)\n",
        "\n",
        "print(\"Sum:\", sum)"
      ],
      "metadata": {
        "colab": {
          "base_uri": "https://localhost:8080/"
        },
        "id": "1I6WegEUzlgB",
        "outputId": "ee40c16d-d1b7-4569-bc35-f30747420ed8"
      },
      "execution_count": null,
      "outputs": [
        {
          "output_type": "stream",
          "name": "stdout",
          "text": [
            "Sum: [ 1  3  6 10 15]\n"
          ]
        }
      ]
    },
    {
      "cell_type": "code",
      "source": [
        "import numpy as np\n",
        "data = np.array([1, 4, 9, 16, 25])\n",
        "sqrt=np.sqrt(data)\n",
        "print(\"sqrt:\",sqrt)"
      ],
      "metadata": {
        "colab": {
          "base_uri": "https://localhost:8080/"
        },
        "id": "AYm-g_FG3Zq2",
        "outputId": "f0cf6395-2328-4114-b090-992c7a009302"
      },
      "execution_count": null,
      "outputs": [
        {
          "output_type": "stream",
          "name": "stdout",
          "text": [
            "sqrt: [1. 2. 3. 4. 5.]\n"
          ]
        }
      ]
    },
    {
      "cell_type": "code",
      "source": [
        "import numpy as np\n",
        "data = np.array([5, 10, 15, 20, 25, 30])\n",
        "find=np.where(data==20)\n",
        "print(\"Find:\",find)"
      ],
      "metadata": {
        "colab": {
          "base_uri": "https://localhost:8080/"
        },
        "id": "c7tfx_ky4LR9",
        "outputId": "1e1d02de-ef52-42f3-999e-9d9605246602"
      },
      "execution_count": null,
      "outputs": [
        {
          "output_type": "stream",
          "name": "stdout",
          "text": [
            "Find: (array([3]),)\n"
          ]
        }
      ]
    },
    {
      "cell_type": "code",
      "source": [
        "import numpy as np\n",
        "data = np.array([[1,2],[3,4],[5,6]])\n",
        "print(data.shape)\n"
      ],
      "metadata": {
        "colab": {
          "base_uri": "https://localhost:8080/"
        },
        "id": "0H6rLNgl4rhl",
        "outputId": "39b98999-809d-48e3-bbfe-a9a97bb8d3e5"
      },
      "execution_count": null,
      "outputs": [
        {
          "output_type": "stream",
          "name": "stdout",
          "text": [
            "(3, 2)\n"
          ]
        }
      ]
    },
    {
      "cell_type": "code",
      "source": [
        "import numpy as np\n",
        "data = np.array([[3, 12, 17,  6],\n",
        " [15,  8, 14, 11],\n",
        " [2, 19, 16, 7],\n",
        " [13, 18, 5, 10]]\n",
        ")\n",
        "\n",
        "data[data%2==0]=0\n",
        "print(data)"
      ],
      "metadata": {
        "id": "6X3XoXia7c9E",
        "colab": {
          "base_uri": "https://localhost:8080/"
        },
        "outputId": "a25f1cf9-b467-4503-a098-cae289f24834"
      },
      "execution_count": 5,
      "outputs": [
        {
          "output_type": "stream",
          "name": "stdout",
          "text": [
            "[[ 3  0 17  0]\n",
            " [15  0  0 11]\n",
            " [ 0 19  0  7]\n",
            " [13  0  5  0]]\n"
          ]
        }
      ]
    },
    {
      "cell_type": "code",
      "source": [
        "import numpy as np\n",
        "data = np.array([\n",
        "    [15, 28, 32, 42, 11],\n",
        "    [38, 27, 19, 22, 30],\n",
        "    [45, 12, 24, 31, 40],\n",
        "    [20, 35, 18, 14, 48],\n",
        "    [29, 33, 26, 37, 16]\n",
        "])\n",
        "\n",
        "mean=data.mean()\n",
        "median=np.median(data)\n",
        "stddev=data.std()\n",
        "print(\"Mean: \",mean)\n",
        "print(\"Median: \",median)\n",
        "print(\"Standard Deviation: \",stddev)"
      ],
      "metadata": {
        "colab": {
          "base_uri": "https://localhost:8080/"
        },
        "id": "VD-h0BRfonvb",
        "outputId": "722c6898-68de-46b4-a8b4-60bd35ce266c"
      },
      "execution_count": 17,
      "outputs": [
        {
          "output_type": "stream",
          "name": "stdout",
          "text": [
            "Mean:  27.68\n",
            "Median:  28.0\n",
            "Standard Deviation:  10.329453034890086\n"
          ]
        }
      ]
    },
    {
      "cell_type": "code",
      "source": [],
      "metadata": {
        "id": "dOjF60dZpfWB"
      },
      "execution_count": null,
      "outputs": []
    }
  ]
}